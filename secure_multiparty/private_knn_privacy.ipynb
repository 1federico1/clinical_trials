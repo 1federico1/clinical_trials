{
 "cells": [
  {
   "cell_type": "code",
   "execution_count": 12,
   "metadata": {},
   "outputs": [],
   "source": [
    "import numpy as np \n",
    "from matplotlib import pyplot as plt\n",
    "%matplotlib inline"
   ]
  },
  {
   "cell_type": "markdown",
   "metadata": {},
   "source": [
    "# Privacy analysis for private knn (horizontally distributed dataset)\n",
    "\n",
    "For now we'll use $k=1$, then we will extend the results for $k > 1$.  \n",
    "Consider 3 nodes $N_0, N_1, N_2$. We are at round $r=0$.  \n",
    "Node $N_2$ is the bad guy, he wants to find out the true values of the other two nodes.\n",
    "With the procedure every nodes puts into $GDV$ their local values, and the procedures finds out the min(max) value for $k$. We are doing k nearest neighbors so we should search for the min value, but that's not really important for our reasonings.  \n",
    "With $gdv$ we indicate the **global distance vector** which is the vector into which nodes put their local values or randomly generated values, taken from a **local distance vector** $ldv$. $ldv$ is private, while $gdv$ is public.  \n",
    "At every step of the algorithm a node decides to put a random value into $gdv$ with probability $Pr(r) = p_0 * d^{r - 1}$. The random value is extracted uniformly at random from values in the range $gdv_{i-1},v_i$ where $v_i$ is the value that node $i$ would have put into the global vector and $gdv_{i-1}$ is the global vector passed by the previous node in the ring.\n",
    "\n",
    "**Values are taken from a real run from the algorithm**  \n",
    "**We use int values for simplicity. In reality distances are real values. We will see that it's quite difficult in that case**\n"
   ]
  },
  {
   "cell_type": "code",
   "execution_count": 8,
   "metadata": {},
   "outputs": [
    {
     "name": "stdout",
     "output_type": "stream",
     "text": [
      "contribution of node 1 to current top 1 1 with value  23\n",
      "contribution of node 2 to current top 1 1 with value  31\n"
     ]
    }
   ],
   "source": [
    "# From node 0 to node 1\n",
    "gdv = [13]\n",
    "ldv = [23]\n",
    "stack = [23, 13]\n",
    "contrib = np.setdiff1d(ldv, gdv)\n",
    "m = len(contrib)\n",
    "print('contribution of node 1 to current top 1',m, 'with value', ldv[0])\n",
    "gdv = [22]\n",
    "# From node 1 to node 2\n",
    "ldv = [31]\n",
    "stack = [31, 22]\n",
    "contrib = np.setdiff1d(ldv, gdv)\n",
    "m = len(contrib)\n",
    "print('contribution of node 2 to current top 1', m, 'with value', ldv[0])\n",
    "gdv = 30"
   ]
  },
  {
   "cell_type": "markdown",
   "metadata": {},
   "source": [
    "Node 2 wants to know what are the local values of node 1 after the first round. Since $Pr$ is very high after the first round node 2 knows that gdv is probably generated at random. Node 2 receives gdv  = [22].  \n",
    "We can compute how it is probable that a certain quantity in $gdv$ is the max value $v_{max}$.  \n",
    "$$P(gdv(r) = v_{max}) = 1 - \\prod_{j=1}^{r}Pr(r) = 1 - \\prod_{j=1}^{r}{p_0*d^{r-1}}$$\n",
    "We put $p_0$ out\n",
    "$$1 - p_0 * \\prod_{j=1}^{r} d^{r - 1}$$\n",
    "The probability that gdv at a certain round is the max value is $$P(gdv(r) = v_{max}) \\geq 1 - p_0^r * d^{\\frac{r(r-1)}{2}}$$"
   ]
  },
  {
   "cell_type": "code",
   "execution_count": 27,
   "metadata": {},
   "outputs": [
    {
     "data": {
      "text/plain": [
       "[0.0,\n",
       " 0.19999999999999996,\n",
       " 0.4879999999999999,\n",
       " 0.7378559999999998,\n",
       " 0.8926258175999999,\n",
       " 0.9648156279111679,\n",
       " 0.9907766279631453,\n",
       " 0.9980657186886166,\n",
       " 0.9996754814463416,\n",
       " 0.9999564438570341]"
      ]
     },
     "execution_count": 27,
     "metadata": {},
     "output_type": "execute_result"
    },
    {
     "data": {
      "image/png": "[encoded data removed]",
      "text/plain": [
       "<Figure size 432x288 with 1 Axes>"
      ]
     },
     "metadata": {},
     "output_type": "display_data"
    }
   ],
   "source": [
    "p0 = 1.0\n",
    "d = 0.8\n",
    "rounds = 10\n",
    "probs = [1 - (p0**r * d**(r*(r-1)/2)) for r in range(1, rounds+1)]\n",
    "plt.plot(list(range(1, rounds+1)), probs)\n",
    "plt.xlabel('# rounds')\n",
    "plt.ylabel('probability that gdv contains max value')\n",
    "probs"
   ]
  },
  {
   "cell_type": "markdown",
   "metadata": {},
   "source": [
    "Let's see a practical example  \n",
    "Node 2 wants to find out what is the real value of node 1  \n",
    "Node 1 passes to node 2 $gdv = 19$, which is a uniformly and randomnly generated attribute between the previous $gdv = 27$ and its local value $ldv_1 = 11$. Node 2 decides to act in the following way in order to narrow the range of possible values for the local value of node 1.  \n",
    "Node 2 passes $gdv = 19$ to node 0 without applying the procedure, node 1 does the same (it has a value that is higher than $gdv$). Now we are in round 1, and when $gdv = 19$ is passed to node 1, it changes its value, since $gdv > ldv_1 = 11$. We have now $gdv = 15$. \n",
    "At round 2, with $p0 = 1.0$ and $d = 0.25$ node 2 know that node 1 will drop its value with probability $ 1- Pr = 0.75$. Node 2 cannot be sure the value will be the local one (it really is).  \n",
    "Now $gdv = 11$, so node 2 knows that at least $ldv < gdv$. If we interrupt the procedure at this round node 2 can just infer the value for the local value of node 1.  \n",
    "The value for $gdv$ is extracted with probability $Pr$ uniformly at random: For what node 2 knows, 11 is the higher bound for the uniform probability, but it cannot estimate the lower bound. Surely it will be a value higher than 0 since we are talking about distances in this particular domain, but it can't do any ulterior analysis. We have that the boundaries are between 1 and 11. The probability to find the right (int) value is \n",
    "$$\\frac{1}{\\texttt{higher bound} - \\texttt{lower bound}} = \\frac{1}{11 - 1} = \\frac{1}{10}$$. "
   ]
  },
  {
   "cell_type": "markdown",
   "metadata": {},
   "source": [
    "Given the uniform probability $$p(x) = \\frac{1}{b - a}$$ we can compute the cumulative distributed function $$P(X \\leq x) = \\frac{x -a}{b - a}$$, where $x$ is a value in the range [a,b).  \n"
   ]
  },
  {
   "cell_type": "code",
   "execution_count": 7,
   "metadata": {},
   "outputs": [
    {
     "name": "stdout",
     "output_type": "stream",
     "text": [
      "0.0\n",
      "0.1\n",
      "0.2\n",
      "0.3\n",
      "0.4\n",
      "0.5\n",
      "0.6\n",
      "0.7\n",
      "0.8\n",
      "0.9\n"
     ]
    }
   ],
   "source": [
    "a = 1\n",
    "b = 11\n",
    "ps = []\n",
    "for x in range(a, b):\n",
    "    p = (x - a)/(b - a)\n",
    "    print(p)\n",
    "    ps.append(p)\n"
   ]
  },
  {
   "cell_type": "markdown",
   "metadata": {},
   "source": [
    "We have expressed what is the probability that given the boundary $[a, b)$, the random variable $X$ (i.e. the value extracted uniformly at random for $gdv$, will be less than $x$.  "
   ]
  }
 ],
 "metadata": {
  "kernelspec": {
   "display_name": "Python 3",
   "language": "python",
   "name": "python3"
  },
  "language_info": {
   "codemirror_mode": {
    "name": "ipython",
    "version": 3
   },
   "file_extension": ".py",
   "mimetype": "text/x-python",
   "name": "python",
   "nbconvert_exporter": "python",
   "pygments_lexer": "ipython3",
   "version": "3.6.7"
  }
 },
 "nbformat": 4,
 "nbformat_minor": 1
}
