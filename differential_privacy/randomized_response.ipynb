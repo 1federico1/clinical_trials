{
 "cells": [
  {
   "cell_type": "markdown",
   "metadata": {
    "collapsed": true
   },
   "source": [
    "#Randomized Response\n",
    "Suppose we have $n$ users, each one of them with a value $v_i$ that indicates their health condition (e.g. they have cancer). Each user $i$ has a value $w_i \\in \\{-1, 1\\}$, indicating whether they have a certain condition (1) or not (-1). \n",
    "\n",
    "In order to protect users' privacy we apply the following procedure. We indicate with $x_i$ the value we are going to report. \n",
    "\n",
    "$x_i = w_i$ w.p. $1 - p$, 1 or -1 w.p. $\\frac{p}{2}$\n",
    "\n",
    "We want to find out how changing $p$ or the number of users $n$ in the dataset can change the estimate of the number of 1s in the system. Also we want to see if there is any relation between the percentage of positive cases (the norm should be that they're fewer than the negative cases) and the probability $p$ we use to report the true value of a user."
   ]
  },
  {
   "cell_type": "code",
   "execution_count": 21,
   "metadata": {},
   "outputs": [],
   "source": [
    "%matplotlib inline\n",
    "\n",
    "import numpy as np\n",
    "import random\n",
    "from collections import defaultdict\n",
    "from matplotlib import pyplot as plt"
   ]
  },
  {
   "cell_type": "code",
   "execution_count": 2,
   "metadata": {},
   "outputs": [],
   "source": [
    "def create_population(n=1000, rate=0.05):\n",
    "    \"\"\"\n",
    "    \n",
    "    :param n: the number of users in the dataset\n",
    "    :param rate: the positive cases rate. It is how many 1s we want in the array\n",
    "    :return: user_data: an array containing user values in {-1, 1}\n",
    "    \"\"\"\n",
    "    \n",
    "    return np.random.choice(a=[-1, 1], size=n, p=[1 - rate, rate])"
   ]
  },
  {
   "cell_type": "code",
   "execution_count": 3,
   "metadata": {},
   "outputs": [
    {
     "name": "stdout",
     "output_type": "stream",
     "text": [
      "Positive cases = 48\nNegative cases = 952\nFraction of positive cases = 0.0480\n"
     ]
    }
   ],
   "source": [
    "# Simple data analysis\n",
    "num_users = 1000\n",
    "positives_rate = 0.05\n",
    "users = create_population(num_users, positives_rate)\n",
    "positive = (users == 1).sum()\n",
    "negative = (users == -1).sum()\n",
    "print('Positive cases = %d\\nNegative cases = %d' % (positive, negative))\n",
    "print('Fraction of positive cases = %.4f' % (positive/num_users))"
   ]
  },
  {
   "cell_type": "code",
   "execution_count": 4,
   "metadata": {},
   "outputs": [],
   "source": [
    "def randomized_response(users, p=0.1):\n",
    "    rand_users = []\n",
    "    for user_value in users:\n",
    "        if random() <= (1 - p):\n",
    "            rand_users.append(user_value) # we report the original value\n",
    "        else: # we toss a coin with bias p/2\n",
    "            if random() <= p/2:\n",
    "                rand_users.append(1)\n",
    "            else:\n",
    "                rand_users.append(-1)\n",
    "    return np.array(rand_users)"
   ]
  },
  {
   "cell_type": "code",
   "execution_count": 8,
   "metadata": {},
   "outputs": [
    {
     "name": "stdout",
     "output_type": "stream",
     "text": [
      "Positive cases = 48\nNegative cases = 952\nFraction of positive cases = 0.0480\n\n*** RANDOMIZED RESPONSE ***\n\nPositive cases = 47\nNegative cases = 953\nFraction of positive cases = 0.0470\n"
     ]
    }
   ],
   "source": [
    "rand_users = randomized_response(users, p = 0.1)\n",
    "\n",
    "positive = (users == 1).sum()\n",
    "negative = (users == -1).sum()\n",
    "print('Positive cases = %d\\nNegative cases = %d' % (positive, negative))\n",
    "print('Fraction of positive cases = %.4f' % (positive/num_users))\n",
    "\n",
    "rand_positives = (rand_users == 1).sum()\n",
    "rand_negatives = (rand_users == -1).sum()\n",
    "print('\\n*** RANDOMIZED RESPONSE ***\\n')\n",
    "print('Positive cases = %d\\nNegative cases = %d' % (rand_positives, rand_negatives))\n",
    "print('Fraction of positive cases = %.4f' % (rand_positives/num_users))"
   ]
  },
  {
   "cell_type": "code",
   "execution_count": 81,
   "metadata": {
    "collapsed": true
   },
   "outputs": [
    {
     "name": "stdout",
     "output_type": "stream",
     "text": [
      "Population size: 100\nRandomized response with p = 0.10\nRandomized response with p = 0.20\nRandomized response with p = 0.30\nRandomized response with p = 0.40\nRandomized response with p = 0.50\nRandomized response with p = 0.60\nRandomized response with p = 0.70\nRandomized response with p = 0.80\nRandomized response with p = 0.90\nPopulation size: 1000\nRandomized response with p = 0.10\nRandomized response with p = 0.20\nRandomized response with p = 0.30\nRandomized response with p = 0.40\nRandomized response with p = 0.50\nRandomized response with p = 0.60\nRandomized response with p = 0.70\n"
     ]
    },
    {
     "name": "stdout",
     "output_type": "stream",
     "text": [
      "Randomized response with p = 0.80\nRandomized response with p = 0.90\nPopulation size: 10000\nRandomized response with p = 0.10\n"
     ]
    },
    {
     "name": "stdout",
     "output_type": "stream",
     "text": [
      "Randomized response with p = 0.20\n"
     ]
    },
    {
     "name": "stdout",
     "output_type": "stream",
     "text": [
      "Randomized response with p = 0.30\n"
     ]
    },
    {
     "name": "stdout",
     "output_type": "stream",
     "text": [
      "Randomized response with p = 0.40\n"
     ]
    },
    {
     "name": "stdout",
     "output_type": "stream",
     "text": [
      "Randomized response with p = 0.50\n"
     ]
    },
    {
     "name": "stdout",
     "output_type": "stream",
     "text": [
      "Randomized response with p = 0.60\n"
     ]
    },
    {
     "name": "stdout",
     "output_type": "stream",
     "text": [
      "Randomized response with p = 0.70\n"
     ]
    },
    {
     "name": "stdout",
     "output_type": "stream",
     "text": [
      "Randomized response with p = 0.80\n"
     ]
    },
    {
     "name": "stdout",
     "output_type": "stream",
     "text": [
      "Randomized response with p = 0.90\n"
     ]
    },
    {
     "name": "stdout",
     "output_type": "stream",
     "text": [
      "Population size: 100000\nRandomized response with p = 0.10\n"
     ]
    },
    {
     "name": "stdout",
     "output_type": "stream",
     "text": [
      "Randomized response with p = 0.20\n"
     ]
    },
    {
     "name": "stdout",
     "output_type": "stream",
     "text": [
      "Randomized response with p = 0.30\n"
     ]
    },
    {
     "name": "stdout",
     "output_type": "stream",
     "text": [
      "Randomized response with p = 0.40\n"
     ]
    },
    {
     "name": "stdout",
     "output_type": "stream",
     "text": [
      "Randomized response with p = 0.50\n"
     ]
    },
    {
     "name": "stdout",
     "output_type": "stream",
     "text": [
      "Randomized response with p = 0.60\n"
     ]
    },
    {
     "name": "stdout",
     "output_type": "stream",
     "text": [
      "Randomized response with p = 0.70\n"
     ]
    },
    {
     "name": "stdout",
     "output_type": "stream",
     "text": [
      "Randomized response with p = 0.80\n"
     ]
    },
    {
     "name": "stdout",
     "output_type": "stream",
     "text": [
      "Randomized response with p = 0.90\n"
     ]
    }
   ],
   "source": [
    "# We collect results for different values of n and p\n",
    "\n",
    "NUM_ROUNDS = 100\n",
    "NUM_USERS = [100, 1000, 10000, 100000]\n",
    "RANGE_P = [0.1, 0.2, 0.3, 0.4, 0.5, 0.6, 0.7, 0.8, 0.9]\n",
    "positive_rates = 0.05\n",
    "scores = defaultdict(list)\n",
    "true_values = []\n",
    "\n",
    "for n in NUM_USERS:\n",
    "    print('Population size: %d' %n)\n",
    "    users = create_population(n, positives_rate)\n",
    "    true_values.append((users == 1).sum())\n",
    "    \n",
    "    for p in RANGE_P:\n",
    "        print('Randomized response with p = %.2f' %p)\n",
    "        tmp = []\n",
    "        \n",
    "        for r in range(NUM_ROUNDS):\n",
    "            rand_users = randomized_response(users, p)\n",
    "            tmp.append((rand_users == 1).sum())\n",
    "            \n",
    "        scores[(n,p)].append(tmp)\n",
    "\n",
    "            "
   ]
  },
  {
   "cell_type": "code",
   "execution_count": 79,
   "metadata": {},
   "outputs": [],
   "source": [
    "def get_mean_var_users_size(scores, size=100):\n",
    "    means = []\n",
    "    vars = []\n",
    "    for (n, p) in scores:\n",
    "        if n == size:\n",
    "            means.append(np.mean(scores[n, p]))\n",
    "            vars.append(np.var(scores[n, p]))\n",
    "    return means, vars\n",
    "\n",
    "def plot_mean_var(scores, baseline, size=100):\n",
    "    means, vars = get_mean_var_users_size(scores, size=size)\n",
    "    baselines = [baseline for _ in RANGE_P]\n",
    "    plt.plot(RANGE_P, means, label='Average positive cases')\n",
    "    plt.errorbar(RANGE_P, means, vars, linestyle='None', marker='^', label='Variance')\n",
    "    plt.plot(RANGE_P, baselines, label='Baseline')\n",
    "    plt.legend()\n",
    "    plt.xlabel('Value of p')\n",
    "    plt.ylabel('Number of positive cases')\n",
    "    plt.title('Number of users = %d\\nOriginal value = %d' % (size, baseline))\n"
   ]
  },
  {
   "cell_type": "markdown",
   "metadata": {},
   "source": [
    "We now show how the number of positive cases changes when we use different values for p. The higher is p the higher is the mean, i.e. the mean differs from the original.  "
   ]
  },
  {
   "cell_type": "code",
   "execution_count": 93,
   "metadata": {
    "collapsed": false
   },
   "outputs": [
    {
     "data": {
      "image/png": "[encoded data removed]",
      "text/plain": [
       "<Figure size 432x288 with 1 Axes>"
      ]
     },
     "metadata": {},
     "output_type": "display_data"
    }
   ],
   "source": [
    "plot_mean_var(scores, true_values[0], size=100)"
   ]
  },
  {
   "cell_type": "code",
   "execution_count": 76,
   "metadata": {
    "collapsed": false
   },
   "outputs": [
    {
     "data": {
      "image/png": "[encoded data removed]",
      "text/plain": [
       "<Figure size 432x288 with 1 Axes>"
      ]
     },
     "metadata": {},
     "output_type": "display_data"
    }
   ],
   "source": [
    "plot_mean_var(scores, true_values[1], size=1000)"
   ]
  },
  {
   "cell_type": "code",
   "execution_count": 77,
   "metadata": {
    "collapsed": false
   },
   "outputs": [
    {
     "data": {
      "image/png": "[encoded data removed]",
      "text/plain": [
       "<Figure size 432x288 with 1 Axes>"
      ]
     },
     "metadata": {},
     "output_type": "display_data"
    }
   ],
   "source": [
    "plot_mean_var(scores, true_values[2], size=10000)"
   ]
  },
  {
   "cell_type": "code",
   "execution_count": 78,
   "metadata": {
    "collapsed": false
   },
   "outputs": [
    {
     "data": {
      "image/png": "[encoded data removed]",
      "text/plain": [
       "<Figure size 432x288 with 1 Axes>"
      ]
     },
     "metadata": {},
     "output_type": "display_data"
    }
   ],
   "source": [
    "plot_mean_var(scores, true_values[3], size=100000)"
   ]
  },
  {
   "cell_type": "markdown",
   "metadata": {},
   "source": [
    "We fix p and see how the variance should decrease while changing n.\n",
    "\n",
    "The greater is n the lower should be the variance. Notice that when we create a population the number of 1s increases, so also the variance would increase because we have in practice a larger number of ones. In order to avoid this we scale down the variance. For example the variance for $n=200$ is divided by 2, in order to compare it with the variance of $n=100$."
   ]
  },
  {
   "cell_type": "code",
   "execution_count": 127,
   "metadata": {},
   "outputs": [
    {
     "name": "stdout",
     "output_type": "stream",
     "text": [
      "Population size: 100\nPopulation size: 200\nPopulation size: 500\nPopulation size: 1000\nPopulation size: 2000\nPopulation size: 5000\nPopulation size: 10000\n"
     ]
    },
    {
     "name": "stdout",
     "output_type": "stream",
     "text": [
      "Population size: 25000\n"
     ]
    },
    {
     "name": "stdout",
     "output_type": "stream",
     "text": [
      "Population size: 50000\n"
     ]
    },
    {
     "name": "stdout",
     "output_type": "stream",
     "text": [
      "Population size: 100000\n"
     ]
    }
   ],
   "source": [
    "NUM_ROUNDS = 100\n",
    "NUM_USERS = [100, 200, 500, 1000, 2000, 5000, 10000, 25000, \n",
    "             50000, 100000]\n",
    "positive_rates = 0.05\n",
    "scores = defaultdict(list)\n",
    "true_values = []\n",
    "p = 0.1\n",
    "\n",
    "for n in NUM_USERS:\n",
    "    print('Population size: %d' % n)\n",
    "    users = create_population(n, positives_rate)\n",
    "    true_values.append((users == 1).sum())\n",
    "    tmp = []\n",
    "\n",
    "    for r in range(NUM_ROUNDS):\n",
    "        rand_users = randomized_response(users, p)\n",
    "        tmp.append((rand_users == 1).sum())\n",
    "\n",
    "    scores[n].append(tmp)\n"
   ]
  },
  {
   "cell_type": "code",
   "execution_count": 170,
   "metadata": {},
   "outputs": [
    {
     "name": "stdout",
     "output_type": "stream",
     "text": [
      "[4.522399999999999, 12.4604, 20.4116, 51.974399999999996, 94.24960000000003, 196.5144, 419.3236, 1193.6203999999998, 1677.5203999999999, 1008.49]\n"
     ]
    }
   ],
   "source": [
    "users = create_population(n = 100000, rate=0.05)\n",
    "values = defaultdict(list)\n",
    "\n",
    "for n in NUM_USERS\n",
    "    for r in range(NUM_ROUNDS):\n",
    "        indices = np.random.choice(users.shape[0], n, replace=False)\n",
    "        sample = users[indices]\n",
    "        rand_users = randomized_response(sample, p=0.1)\n",
    "        values[n].append((rand_users == 1).sum())\n",
    "\n",
    "variances = [np.var(values[n]) for n in values]\n",
    "print(variances)"
   ]
  }
 ],
 "metadata": {
  "kernelspec": {
   "display_name": "Python 2",
   "language": "python",
   "name": "python2"
  },
  "language_info": {
   "codemirror_mode": {
    "name": "ipython",
    "version": 2
   },
   "file_extension": ".py",
   "mimetype": "text/x-python",
   "name": "python",
   "nbconvert_exporter": "python",
   "pygments_lexer": "ipython2",
   "version": "2.7.6"
  }
 },
 "nbformat": 4,
 "nbformat_minor": 0
}
